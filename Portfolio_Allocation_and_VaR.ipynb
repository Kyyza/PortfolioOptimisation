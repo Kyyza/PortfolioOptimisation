{
  "nbformat": 4,
  "nbformat_minor": 0,
  "metadata": {
    "colab": {
      "name": "Portfolio Allocation and VaR.ipynb",
      "provenance": [],
      "collapsed_sections": [],
      "toc_visible": true,
      "authorship_tag": "ABX9TyNeo7A4qRe7XZeNgNpsjA/Q",
      "include_colab_link": true
    },
    "kernelspec": {
      "name": "python3",
      "display_name": "Python 3"
    },
    "language_info": {
      "name": "python"
    }
  },
  "cells": [
    {
      "cell_type": "markdown",
      "metadata": {
        "id": "view-in-github",
        "colab_type": "text"
      },
      "source": [
        "<a href=\"https://colab.research.google.com/github/Kyyza/PortfolioOptimisation/blob/main/Portfolio_Allocation_and_VaR.ipynb\" target=\"_parent\"><img src=\"https://colab.research.google.com/assets/colab-badge.svg\" alt=\"Open In Colab\"/></a>"
      ]
    },
    {
      "cell_type": "markdown",
      "metadata": {
        "id": "lyozui8X2KuX"
      },
      "source": [
        "# Portfolio allocation\n",
        "\n",
        "When you look at popular cryptocurrency price information websites such as [Coin Market Cap](https://coinmarketcap.com/) or [Coin Gecko](https://www.coingecko.com), you will often be presented with a list of the most popular crypto-assets, ordered by Market Capitalisation.\n",
        "\n",
        "A typical way to gain exposure to a new asset class would be to purchase those assets that make up the top *n* of the index. In doing so, you might ask:\n",
        "\n",
        "*What allocation of these assets would make the best return?*\n",
        "\n",
        "But in constructing a portfolio, it is not only the expected return that should be considered.\n",
        "\n",
        "Given the highly volatile nature of cryptocurrencies in today's market, maybe the better question would be:\n",
        "\n",
        "*What allocation of these assets would make me the best **risk adjusted** return?*\n",
        "\n",
        "That is, which portfolio would give me the biggest returns, for the least amount of loss?\n",
        "\n",
        "This notebook concerns itself with this very question. We consider the Value at Risk (VaR) score for two methods of portfolio construction on an arbitrary set of cryptocurrencies.\n",
        "\n",
        "**Portfolios**\n",
        "\n",
        "1. Equally weighted\n",
        "2. Market Cap weighted\n",
        "\n",
        "\n",
        "We employ the Variance-covariance method of calculating VaR and assume a Normal Guassian distribution - which we will later show that is not entirely accurate, but is workable for this analysis and is something that could be built on in later work.\n",
        "\n",
        "--------------------------\n",
        "\n",
        "In constructing these portfolios we will:\n",
        "\n",
        "\n",
        "*   Source historic price data for a group of 10 arbitrary coins\n",
        "*   Apply either an (1) equal weighting, or a (2) Market Cap weighted allocation to the assets\n",
        "*   Explore the probability density distribution of their respective returns\n",
        "*   Calculate the Value at Risk for each portfolio\n",
        "*   Compare the VaR to see which construct offers the best risk-adjusted returns\n",
        "\n",
        "### Data\n",
        "\n",
        "We start by collecting and formatting historic crypto-currency data from an open [API provided by Coin Gecko](https://www.coingecko.com/en/api).\n",
        "\n",
        "We collect historic ``Price``, ``Market Cap`` and ``Volume`` for the 3.25 year period: 01/01/2018 to 30/04/2021.\n",
        "\n",
        "Which, admittedly encapsulates a record bull run, but when dealing with the crypto-currency market, looking back further than this could be unreliable as the market is rapidly changing with new technologies and products being released monthly."
      ]
    },
    {
      "cell_type": "markdown",
      "metadata": {
        "id": "EWJrM48wfO_F"
      },
      "source": [
        "### **Get data**\n",
        "\n",
        "Coin gecko api "
      ]
    },
    {
      "cell_type": "code",
      "metadata": {
        "colab": {
          "base_uri": "https://localhost:8080/"
        },
        "id": "KvyDsDz9fPhD",
        "outputId": "90e2a660-c013-485f-b52b-ef08dac63256"
      },
      "source": [
        "# install pycoingecko library if not already\n",
        "!pip install pycoingecko"
      ],
      "execution_count": null,
      "outputs": [
        {
          "output_type": "stream",
          "text": [
            "Collecting pycoingecko\n",
            "  Downloading https://files.pythonhosted.org/packages/42/34/e953751a2786273cf7ad2b144d34f2ba321885a1d0515de2c2ad19b8d25e/pycoingecko-2.0.0-py3-none-any.whl\n",
            "Requirement already satisfied: requests in /usr/local/lib/python3.7/dist-packages (from pycoingecko) (2.23.0)\n",
            "Requirement already satisfied: idna<3,>=2.5 in /usr/local/lib/python3.7/dist-packages (from requests->pycoingecko) (2.10)\n",
            "Requirement already satisfied: urllib3!=1.25.0,!=1.25.1,<1.26,>=1.21.1 in /usr/local/lib/python3.7/dist-packages (from requests->pycoingecko) (1.24.3)\n",
            "Requirement already satisfied: chardet<4,>=3.0.2 in /usr/local/lib/python3.7/dist-packages (from requests->pycoingecko) (3.0.4)\n",
            "Requirement already satisfied: certifi>=2017.4.17 in /usr/local/lib/python3.7/dist-packages (from requests->pycoingecko) (2020.12.5)\n",
            "Installing collected packages: pycoingecko\n",
            "Successfully installed pycoingecko-2.0.0\n"
          ],
          "name": "stdout"
        }
      ]
    },
    {
      "cell_type": "code",
      "metadata": {
        "id": "0NiCpa3BfRtt"
      },
      "source": [
        "# import other libraries used\n",
        "import pandas as pd\n",
        "import numpy as np\n",
        "from matplotlib import pyplot as plt\n",
        "from datetime import datetime\n",
        "\n",
        "from scipy.stats import norm\n",
        "\n",
        "from pycoingecko import CoinGeckoAPI # crypto data provider\n",
        "\n",
        "# set a visualisation style for the whole notebook\n",
        "plt.style.use('seaborn')"
      ],
      "execution_count": null,
      "outputs": []
    },
    {
      "cell_type": "code",
      "metadata": {
        "colab": {
          "base_uri": "https://localhost:8080/"
        },
        "id": "UT7DpFbNfvTr",
        "outputId": "455b21e3-0c2b-405d-95c6-912a7bd72262"
      },
      "source": [
        "# initiate connection to the CoinGecko API\n",
        "cg = CoinGeckoAPI()\n",
        "cg.ping()"
      ],
      "execution_count": null,
      "outputs": [
        {
          "output_type": "execute_result",
          "data": {
            "text/plain": [
              "{'gecko_says': '(V3) To the Moon!'}"
            ]
          },
          "metadata": {
            "tags": []
          },
          "execution_count": 3
        }
      ]
    },
    {
      "cell_type": "markdown",
      "metadata": {
        "id": "biN-ytg8f0Lo"
      },
      "source": [
        "##### Define 'Get Data' functions"
      ]
    },
    {
      "cell_type": "code",
      "metadata": {
        "id": "9-gD-mV6fxYr"
      },
      "source": [
        "# build functions\n",
        "\n",
        "# base function to call api for historical data\n",
        "def getCryptoData(coin, from_unix, to_unix, currency):\n",
        "  \"\"\"\n",
        "  Gets Price, Market Cap & Volume data for the coin and date range specified.\n",
        "  Note that the frequency of return is based on the range asked for\n",
        "  as specified here: https://www.coingecko.com/en/api#explore-api\n",
        "  To get daily data, you need to call for 91+ days.\n",
        "\n",
        "  :params:\n",
        "  coin      | str | Coin ID to query.\n",
        "  from_unix | int | Unix date representing the first date in the query range.\n",
        "  to_unix   | int | Unix date representing the end date in the query range.\n",
        "  currency  | str | Base currency representing the FX pair for coin.\n",
        "\n",
        "  :returns:\n",
        "  df | Pandas DataFrame | Formatted data for the queried coin.\n",
        "  \"\"\"\n",
        "\n",
        "  # send query to api\n",
        "  data = cg.get_coin_market_chart_range_by_id(\n",
        "      id=coin, \n",
        "      vs_currency=currency,\n",
        "      from_timestamp=from_unix,\n",
        "      to_timestamp=to_unix\n",
        "      )\n",
        "  # create pandas DataFrame\n",
        "  df = pd.DataFrame(data)\n",
        "\n",
        "  # label the asset in the dataframe\n",
        "  df['id'] = coin\n",
        "  # unpack the data pairs\n",
        "  df[['Date', 'Price']] = pd.DataFrame(df.prices.tolist(), index=df.index)\n",
        "  df[['Date', 'MarketCap']] = pd.DataFrame(df.market_caps.tolist(), index=df.index)\n",
        "  df[['Date', 'Volume']] = pd.DataFrame(df.total_volumes.tolist(), index=df.index)\n",
        "\n",
        "  # drop raw columns\n",
        "  df.drop(columns=['prices', 'market_caps', 'total_volumes'], inplace=True)\n",
        "  # apply datetime dtype\n",
        "  df['Date'] = pd.to_datetime(df['Date'], unit='ms')\n",
        "\n",
        "  return df\n",
        "\n",
        "# lets you iterate through a list of coin ID's to get data for all\n",
        "def collateCryptoData(coins, from_unix, to_unix, currency):\n",
        "  \"\"\"\n",
        "  Calls getCryptoData for all coins in a list. Collates all the data into one\n",
        "  DataFrame.\n",
        "\n",
        "  :params:\n",
        "  coins     | list of str | Coin IDs to query.\n",
        "  from_unix | int | Unix date representing the first date in the query range.\n",
        "  to_unix   | int | Unix date representing the end date in the query range.\n",
        "  currency  | str | Base currency representing the FX pair for coin.\n",
        "\n",
        "  :returns:\n",
        "  df | Pandas DataFrame | Formatted data for the queried coins, with Date \n",
        "  set as the index.\n",
        "   \n",
        "  \"\"\"\n",
        "\n",
        "  # define an empty dataframe to fill later\n",
        "  allCoinsData = pd.DataFrame()\n",
        "\n",
        "  # loop over the coins and get the data\n",
        "  for coin in coins:\n",
        "    temp_df = getCryptoData(\n",
        "        coin=coin,\n",
        "        from_unix=from_unix,\n",
        "        to_unix=to_unix,\n",
        "        currency=currency\n",
        "    )\n",
        "\n",
        "    # add to all coins df\n",
        "    allCoinsData = allCoinsData.append(temp_df)\n",
        "\n",
        "  # set index to the Date col\n",
        "  allCoinsData.set_index('Date', inplace=True)\n",
        "\n",
        "  return allCoinsData\n",
        "\n",
        "\n",
        "# convert datetimes to unix\n",
        "def toUnix(date):\n",
        "  \"\"\"\n",
        "  Converts a Datetime value to a Unix time.\n",
        "\n",
        "  :params:\n",
        "  datetime | datetime.Datetime | Original value to be converted.\n",
        "\n",
        "  :returns:\n",
        "  unixtime | int | Datetime converted into Unix time in seconds.\n",
        "  \"\"\"\n",
        "\n",
        "  # define the start of unix time\n",
        "  startUnix = datetime(1970,1,1)\n",
        "\n",
        "  # unix time is the difference between the given date\n",
        "  # and the start of time, in seconds\n",
        "  unixtime = (date - startUnix).total_seconds()\n",
        "\n",
        "  return unixtime\n",
        "\n",
        "# convert datetimes to unix\n",
        "def fromUnix(unixtime):\n",
        "  \"\"\"\n",
        "  Converts a Unix time value to a datetime.\n",
        "\n",
        "  :params:\n",
        "  unixtime | int | Unix time to be converted.\n",
        "\n",
        "  :returns:\n",
        "  _ | int | Unix time converted into datetime.\n",
        "  \"\"\"\n",
        "\n",
        "  return datetime.utcfromtimestamp(unixtime).strftime(\n",
        "      '%d-%m-%Y %H:%M:%S'\n",
        "  )"
      ],
      "execution_count": null,
      "outputs": []
    },
    {
      "cell_type": "markdown",
      "metadata": {
        "id": "ABCXBBiYf5UD"
      },
      "source": [
        "##### Configure & run data collection"
      ]
    },
    {
      "cell_type": "code",
      "metadata": {
        "id": "nGADJbQdf3rD"
      },
      "source": [
        "# get data config\n",
        "from_date = datetime(2018,1,1)\n",
        "to_date   = datetime(2021,4,30) # 3.25 years of data\n",
        "# convert dates to unix time\n",
        "from_unix = toUnix(from_date)\n",
        "to_unix   = toUnix(to_date)\n",
        "\n",
        "# define coins to query\n",
        "query_coins = [\n",
        "               'bitcoin',\n",
        "               'ethereum',\n",
        "               'ripple',\n",
        "               'tether',\n",
        "               'litecoin',\n",
        "               'binancecoin',\n",
        "               'monero',\n",
        "               'stellar',\n",
        "               'cardano',\n",
        "               'bitcoin-cash',\n",
        "]"
      ],
      "execution_count": null,
      "outputs": []
    },
    {
      "cell_type": "code",
      "metadata": {
        "colab": {
          "base_uri": "https://localhost:8080/"
        },
        "id": "sexf3j5TgEGa",
        "outputId": "03b92bee-c7a3-434b-a3ab-0ea9ce7b9bfa"
      },
      "source": [
        "# get data for each coin\n",
        "coins_df = collateCryptoData(\n",
        "    coins = query_coins,\n",
        "    from_unix = from_unix,\n",
        "    to_unix = to_unix,\n",
        "    currency = 'gbp',\n",
        ")\n",
        "print('-------Describe-------')\n",
        "print(coins_df.describe())\n",
        "print('---------Info---------')\n",
        "print(coins_df.info())\n",
        "print('---------Head---------')\n",
        "print(coins_df.head())"
      ],
      "execution_count": null,
      "outputs": [
        {
          "output_type": "stream",
          "text": [
            "-------Describe-------\n",
            "              Price     MarketCap        Volume\n",
            "count  12158.000000  1.215800e+04  1.215800e+04\n",
            "mean    1033.248553  2.517176e+10  5.544624e+09\n",
            "std     4010.893435  7.462774e+10  1.244923e+10\n",
            "min        0.018871  3.252142e+08  4.218953e+02\n",
            "25%        0.321308  1.739178e+09  1.483752e+08\n",
            "50%       30.661942  3.703692e+09  8.027225e+08\n",
            "75%      179.885128  1.359713e+10  3.563764e+09\n",
            "max    46196.720112  8.630454e+11  1.681301e+11\n",
            "---------Info---------\n",
            "<class 'pandas.core.frame.DataFrame'>\n",
            "DatetimeIndex: 12158 entries, 2018-01-01 00:00:00 to 2021-04-30 00:00:00\n",
            "Data columns (total 4 columns):\n",
            " #   Column     Non-Null Count  Dtype  \n",
            "---  ------     --------------  -----  \n",
            " 0   id         12158 non-null  object \n",
            " 1   Price      12158 non-null  float64\n",
            " 2   MarketCap  12158 non-null  float64\n",
            " 3   Volume     12158 non-null  float64\n",
            "dtypes: float64(3), object(1)\n",
            "memory usage: 474.9+ KB\n",
            "None\n",
            "---------Head---------\n",
            "                 id         Price     MarketCap        Volume\n",
            "Date                                                         \n",
            "2018-01-01  bitcoin  10428.240221  1.749486e+11  1.735483e+09\n",
            "2018-01-02  bitcoin  11269.281612  1.890821e+11  3.037775e+09\n",
            "2018-01-03  bitcoin  11533.742774  1.935418e+11  2.450017e+09\n",
            "2018-01-04  bitcoin  11788.224964  1.978369e+11  3.111816e+09\n",
            "2018-01-05  bitcoin  13515.870875  2.268556e+11  4.625715e+09\n"
          ],
          "name": "stdout"
        }
      ]
    },
    {
      "cell_type": "markdown",
      "metadata": {
        "id": "0d_auOBth6Y-"
      },
      "source": [
        "To make calculating the returns easier later on, we can isolate the prices and pivot the dataframe so that it shows the price for each coin along the columns, for each date in the rows."
      ]
    },
    {
      "cell_type": "code",
      "metadata": {
        "colab": {
          "base_uri": "https://localhost:8080/",
          "height": 436
        },
        "id": "OPqNhXZUi9IZ",
        "outputId": "a6776453-c6f9-489c-d86d-b58eedd4dc41"
      },
      "source": [
        "# create a copy of the dataframe to work with\n",
        "prices_df = coins_df.copy()\n",
        "\n",
        "# for this view, we only care about the Price data for each asset id\n",
        "# so let's drop the other columns and make a new df\n",
        "prices_df = prices_df[['id','Price']]\n",
        "\n",
        "# we reset the date index so we can more easily access the dates\n",
        "prices_df = prices_df.reset_index()\n",
        "\n",
        "# pivot the dataframe so that the coin id's become the columns\n",
        "# and the Price per day are the values\n",
        "prices_df = prices_df.pivot(\n",
        "    index='Date', \n",
        "    columns='id', \n",
        "    values='Price'\n",
        "    )\n",
        "\n",
        "# let's see what that looks like\n",
        "prices_df"
      ],
      "execution_count": null,
      "outputs": [
        {
          "output_type": "execute_result",
          "data": {
            "text/html": [
              "<div>\n",
              "<style scoped>\n",
              "    .dataframe tbody tr th:only-of-type {\n",
              "        vertical-align: middle;\n",
              "    }\n",
              "\n",
              "    .dataframe tbody tr th {\n",
              "        vertical-align: top;\n",
              "    }\n",
              "\n",
              "    .dataframe thead th {\n",
              "        text-align: right;\n",
              "    }\n",
              "</style>\n",
              "<table border=\"1\" class=\"dataframe\">\n",
              "  <thead>\n",
              "    <tr style=\"text-align: right;\">\n",
              "      <th>id</th>\n",
              "      <th>binancecoin</th>\n",
              "      <th>bitcoin</th>\n",
              "      <th>bitcoin-cash</th>\n",
              "      <th>cardano</th>\n",
              "      <th>ethereum</th>\n",
              "      <th>litecoin</th>\n",
              "      <th>monero</th>\n",
              "      <th>ripple</th>\n",
              "      <th>stellar</th>\n",
              "      <th>tether</th>\n",
              "    </tr>\n",
              "    <tr>\n",
              "      <th>Date</th>\n",
              "      <th></th>\n",
              "      <th></th>\n",
              "      <th></th>\n",
              "      <th></th>\n",
              "      <th></th>\n",
              "      <th></th>\n",
              "      <th></th>\n",
              "      <th></th>\n",
              "      <th></th>\n",
              "      <th></th>\n",
              "    </tr>\n",
              "  </thead>\n",
              "  <tbody>\n",
              "    <tr>\n",
              "      <th>2018-01-01</th>\n",
              "      <td>6.532149</td>\n",
              "      <td>10428.240221</td>\n",
              "      <td>1795.780689</td>\n",
              "      <td>0.552719</td>\n",
              "      <td>574.242791</td>\n",
              "      <td>170.525145</td>\n",
              "      <td>264.286858</td>\n",
              "      <td>1.709320</td>\n",
              "      <td>0.367598</td>\n",
              "      <td>0.746696</td>\n",
              "    </tr>\n",
              "    <tr>\n",
              "      <th>2018-01-02</th>\n",
              "      <td>6.685984</td>\n",
              "      <td>11269.281612</td>\n",
              "      <td>1932.178315</td>\n",
              "      <td>0.593865</td>\n",
              "      <td>644.952785</td>\n",
              "      <td>187.587940</td>\n",
              "      <td>276.941463</td>\n",
              "      <td>1.805866</td>\n",
              "      <td>0.407318</td>\n",
              "      <td>0.738383</td>\n",
              "    </tr>\n",
              "    <tr>\n",
              "      <th>2018-01-03</th>\n",
              "      <td>7.316937</td>\n",
              "      <td>11533.742774</td>\n",
              "      <td>1946.860205</td>\n",
              "      <td>0.795809</td>\n",
              "      <td>712.764302</td>\n",
              "      <td>183.577764</td>\n",
              "      <td>292.536746</td>\n",
              "      <td>2.313360</td>\n",
              "      <td>0.648010</td>\n",
              "      <td>0.751786</td>\n",
              "    </tr>\n",
              "    <tr>\n",
              "      <th>2018-01-04</th>\n",
              "      <td>7.139296</td>\n",
              "      <td>11788.224964</td>\n",
              "      <td>1814.305048</td>\n",
              "      <td>0.870186</td>\n",
              "      <td>721.928236</td>\n",
              "      <td>180.652021</td>\n",
              "      <td>306.233757</td>\n",
              "      <td>2.375927</td>\n",
              "      <td>0.557204</td>\n",
              "      <td>0.739925</td>\n",
              "    </tr>\n",
              "    <tr>\n",
              "      <th>2018-01-05</th>\n",
              "      <td>12.153443</td>\n",
              "      <td>13515.870875</td>\n",
              "      <td>1880.540944</td>\n",
              "      <td>0.794446</td>\n",
              "      <td>740.693011</td>\n",
              "      <td>187.321695</td>\n",
              "      <td>296.684554</td>\n",
              "      <td>2.160676</td>\n",
              "      <td>0.518331</td>\n",
              "      <td>0.736860</td>\n",
              "    </tr>\n",
              "    <tr>\n",
              "      <th>...</th>\n",
              "      <td>...</td>\n",
              "      <td>...</td>\n",
              "      <td>...</td>\n",
              "      <td>...</td>\n",
              "      <td>...</td>\n",
              "      <td>...</td>\n",
              "      <td>...</td>\n",
              "      <td>...</td>\n",
              "      <td>...</td>\n",
              "      <td>...</td>\n",
              "    </tr>\n",
              "    <tr>\n",
              "      <th>2021-04-26</th>\n",
              "      <td>364.837843</td>\n",
              "      <td>35313.464061</td>\n",
              "      <td>545.764093</td>\n",
              "      <td>0.781973</td>\n",
              "      <td>1663.501663</td>\n",
              "      <td>161.459831</td>\n",
              "      <td>256.413122</td>\n",
              "      <td>0.746058</td>\n",
              "      <td>0.300911</td>\n",
              "      <td>0.723482</td>\n",
              "    </tr>\n",
              "    <tr>\n",
              "      <th>2021-04-27</th>\n",
              "      <td>383.956033</td>\n",
              "      <td>38844.012133</td>\n",
              "      <td>610.551629</td>\n",
              "      <td>0.888476</td>\n",
              "      <td>1822.254896</td>\n",
              "      <td>177.621707</td>\n",
              "      <td>289.190225</td>\n",
              "      <td>0.978831</td>\n",
              "      <td>0.349628</td>\n",
              "      <td>0.720015</td>\n",
              "    </tr>\n",
              "    <tr>\n",
              "      <th>2021-04-28</th>\n",
              "      <td>409.219785</td>\n",
              "      <td>39551.927965</td>\n",
              "      <td>637.016901</td>\n",
              "      <td>0.938682</td>\n",
              "      <td>1903.923526</td>\n",
              "      <td>186.179317</td>\n",
              "      <td>288.701278</td>\n",
              "      <td>1.007826</td>\n",
              "      <td>0.365347</td>\n",
              "      <td>0.717003</td>\n",
              "    </tr>\n",
              "    <tr>\n",
              "      <th>2021-04-29</th>\n",
              "      <td>403.148863</td>\n",
              "      <td>39277.833992</td>\n",
              "      <td>651.046312</td>\n",
              "      <td>0.955640</td>\n",
              "      <td>1969.806522</td>\n",
              "      <td>185.536777</td>\n",
              "      <td>298.963245</td>\n",
              "      <td>0.976220</td>\n",
              "      <td>0.357501</td>\n",
              "      <td>0.717944</td>\n",
              "    </tr>\n",
              "    <tr>\n",
              "      <th>2021-04-30</th>\n",
              "      <td>430.005202</td>\n",
              "      <td>38419.189378</td>\n",
              "      <td>631.136086</td>\n",
              "      <td>0.942665</td>\n",
              "      <td>1976.629395</td>\n",
              "      <td>183.355402</td>\n",
              "      <td>292.063449</td>\n",
              "      <td>1.001976</td>\n",
              "      <td>0.354262</td>\n",
              "      <td>0.717589</td>\n",
              "    </tr>\n",
              "  </tbody>\n",
              "</table>\n",
              "<p>1234 rows × 10 columns</p>\n",
              "</div>"
            ],
            "text/plain": [
              "id          binancecoin       bitcoin  ...   stellar    tether\n",
              "Date                                   ...                    \n",
              "2018-01-01     6.532149  10428.240221  ...  0.367598  0.746696\n",
              "2018-01-02     6.685984  11269.281612  ...  0.407318  0.738383\n",
              "2018-01-03     7.316937  11533.742774  ...  0.648010  0.751786\n",
              "2018-01-04     7.139296  11788.224964  ...  0.557204  0.739925\n",
              "2018-01-05    12.153443  13515.870875  ...  0.518331  0.736860\n",
              "...                 ...           ...  ...       ...       ...\n",
              "2021-04-26   364.837843  35313.464061  ...  0.300911  0.723482\n",
              "2021-04-27   383.956033  38844.012133  ...  0.349628  0.720015\n",
              "2021-04-28   409.219785  39551.927965  ...  0.365347  0.717003\n",
              "2021-04-29   403.148863  39277.833992  ...  0.357501  0.717944\n",
              "2021-04-30   430.005202  38419.189378  ...  0.354262  0.717589\n",
              "\n",
              "[1234 rows x 10 columns]"
            ]
          },
          "metadata": {
            "tags": []
          },
          "execution_count": 7
        }
      ]
    },
    {
      "cell_type": "markdown",
      "metadata": {
        "id": "c6wqNquigJJ5"
      },
      "source": [
        "## Portfolio Construction\n",
        "\n",
        "Construct the weights that will define our portfolios.\n",
        "\n",
        "For the equal weighting - the weights are simply $1/N$.\n",
        "\n",
        "For the Market Cap weighting, we will need to use the original dataframe to access the Market Cap info."
      ]
    },
    {
      "cell_type": "code",
      "metadata": {
        "colab": {
          "base_uri": "https://localhost:8080/"
        },
        "id": "BG_VK8OOgIpL",
        "outputId": "79390ce7-eaef-453d-f8dc-b9fee65aecff"
      },
      "source": [
        "# count number of assets\n",
        "n = len(prices_df.columns)\n",
        "# define equal weights for each asset\n",
        "eq_w = np.array([1/n for i in range(n)])\n",
        "\n",
        "print(\"Weights:\\n\\t{}\".format(eq_w))"
      ],
      "execution_count": null,
      "outputs": [
        {
          "output_type": "stream",
          "text": [
            "Weights:\n",
            "\t[0.1 0.1 0.1 0.1 0.1 0.1 0.1 0.1 0.1 0.1]\n"
          ],
          "name": "stdout"
        }
      ]
    },
    {
      "cell_type": "markdown",
      "metadata": {
        "id": "_b9MbERqjg96"
      },
      "source": [
        "### Market Cap weighted\n",
        "\n",
        "For this analysis, we are selecting a rebalancing period of 1 day. This means that we will recalculate the weights for each asset for each date in our range.\n",
        "\n",
        "We need to calculate the percentage weight of each asset's Market Cap for each date, compared to it's peers.\n",
        "\n",
        "From there, we will take the average of each coin's weighting across the period to form our notional weights which we can use in a standard VaR calculation."
      ]
    },
    {
      "cell_type": "code",
      "metadata": {
        "id": "iUHwfqQ8hQ_7"
      },
      "source": [
        "# create a copy of the dataframe to work with our portfolio\n",
        "marketCapWeighted = coins_df.copy()\n",
        "# we reset the date index so we can more easily access the dates\n",
        "marketCaps = marketCapWeighted.reset_index()\n",
        "\n",
        "# for the weights, we only need the Market Caps per coin per day\n",
        "marketCaps = marketCaps[['Date', 'id', 'MarketCap']]"
      ],
      "execution_count": null,
      "outputs": []
    },
    {
      "cell_type": "markdown",
      "metadata": {
        "id": "hA091fzakEsT"
      },
      "source": [
        "To calculate the daily weightings, we can divide each coin's Market Cap by the total sum of all coin's Market Cap for each date."
      ]
    },
    {
      "cell_type": "code",
      "metadata": {
        "colab": {
          "base_uri": "https://localhost:8080/",
          "height": 436
        },
        "id": "yJjVxOymkFLl",
        "outputId": "bc1a77be-b6f8-45fb-b94f-c70354a46f1c"
      },
      "source": [
        "# aggregate the Market Caps per date and coin\n",
        "coins_mc_dates = marketCaps.groupby(['Date', 'id']).agg({'MarketCap': 'sum'})\n",
        "\n",
        "# divide each coin's Market Cap by the total of the Caps, within each date\n",
        "mc_w = coins_mc_dates.groupby(level=0).apply(lambda x:\n",
        "                                         x / float(x.sum()) )\n",
        "# show the resulting weights\n",
        "mc_w"
      ],
      "execution_count": null,
      "outputs": [
        {
          "output_type": "execute_result",
          "data": {
            "text/html": [
              "<div>\n",
              "<style scoped>\n",
              "    .dataframe tbody tr th:only-of-type {\n",
              "        vertical-align: middle;\n",
              "    }\n",
              "\n",
              "    .dataframe tbody tr th {\n",
              "        vertical-align: top;\n",
              "    }\n",
              "\n",
              "    .dataframe thead th {\n",
              "        text-align: right;\n",
              "    }\n",
              "</style>\n",
              "<table border=\"1\" class=\"dataframe\">\n",
              "  <thead>\n",
              "    <tr style=\"text-align: right;\">\n",
              "      <th></th>\n",
              "      <th></th>\n",
              "      <th>MarketCap</th>\n",
              "    </tr>\n",
              "    <tr>\n",
              "      <th>Date</th>\n",
              "      <th>id</th>\n",
              "      <th></th>\n",
              "    </tr>\n",
              "  </thead>\n",
              "  <tbody>\n",
              "    <tr>\n",
              "      <th rowspan=\"5\" valign=\"top\">2018-01-01</th>\n",
              "      <th>binancecoin</th>\n",
              "      <td>0.001782</td>\n",
              "    </tr>\n",
              "    <tr>\n",
              "      <th>bitcoin</th>\n",
              "      <td>0.481940</td>\n",
              "    </tr>\n",
              "    <tr>\n",
              "      <th>bitcoin-cash</th>\n",
              "      <td>0.083546</td>\n",
              "    </tr>\n",
              "    <tr>\n",
              "      <th>cardano</th>\n",
              "      <td>0.039477</td>\n",
              "    </tr>\n",
              "    <tr>\n",
              "      <th>ethereum</th>\n",
              "      <td>0.152989</td>\n",
              "    </tr>\n",
              "    <tr>\n",
              "      <th>...</th>\n",
              "      <th>...</th>\n",
              "      <td>...</td>\n",
              "    </tr>\n",
              "    <tr>\n",
              "      <th rowspan=\"5\" valign=\"top\">2021-04-30</th>\n",
              "      <th>litecoin</th>\n",
              "      <td>0.010517</td>\n",
              "    </tr>\n",
              "    <tr>\n",
              "      <th>monero</th>\n",
              "      <td>0.004492</td>\n",
              "    </tr>\n",
              "    <tr>\n",
              "      <th>ripple</th>\n",
              "      <td>0.039624</td>\n",
              "    </tr>\n",
              "    <tr>\n",
              "      <th>stellar</th>\n",
              "      <td>0.006986</td>\n",
              "    </tr>\n",
              "    <tr>\n",
              "      <th>tether</th>\n",
              "      <td>0.031591</td>\n",
              "    </tr>\n",
              "  </tbody>\n",
              "</table>\n",
              "<p>12158 rows × 1 columns</p>\n",
              "</div>"
            ],
            "text/plain": [
              "                         MarketCap\n",
              "Date       id                     \n",
              "2018-01-01 binancecoin    0.001782\n",
              "           bitcoin        0.481940\n",
              "           bitcoin-cash   0.083546\n",
              "           cardano        0.039477\n",
              "           ethereum       0.152989\n",
              "...                            ...\n",
              "2021-04-30 litecoin       0.010517\n",
              "           monero         0.004492\n",
              "           ripple         0.039624\n",
              "           stellar        0.006986\n",
              "           tether         0.031591\n",
              "\n",
              "[12158 rows x 1 columns]"
            ]
          },
          "metadata": {
            "tags": []
          },
          "execution_count": 10
        }
      ]
    },
    {
      "cell_type": "code",
      "metadata": {
        "colab": {
          "base_uri": "https://localhost:8080/",
          "height": 436
        },
        "id": "y5dNeuZVkJ9W",
        "outputId": "107206f8-9b38-4474-e1b5-6f2d252b00ce"
      },
      "source": [
        "# now we can unpack the weights from their multi-index\n",
        "mc_w = mc_w.reset_index(['Date', 'id'])\n",
        "\n",
        "# and pivot the dataframe so that the coin id's become the columns\n",
        "# and the weight per day are the values\n",
        "mc_w = mc_w.pivot(\n",
        "    index='Date', \n",
        "    columns='id', \n",
        "    values='MarketCap'\n",
        "    )\n",
        "\n",
        "# lastly rename the MarketCap\n",
        "mc_w.rename(columns={'MarketCap': 'weight'}, inplace=True)\n",
        "\n",
        "# let's see what we end up with\n",
        "mc_w"
      ],
      "execution_count": null,
      "outputs": [
        {
          "output_type": "execute_result",
          "data": {
            "text/html": [
              "<div>\n",
              "<style scoped>\n",
              "    .dataframe tbody tr th:only-of-type {\n",
              "        vertical-align: middle;\n",
              "    }\n",
              "\n",
              "    .dataframe tbody tr th {\n",
              "        vertical-align: top;\n",
              "    }\n",
              "\n",
              "    .dataframe thead th {\n",
              "        text-align: right;\n",
              "    }\n",
              "</style>\n",
              "<table border=\"1\" class=\"dataframe\">\n",
              "  <thead>\n",
              "    <tr style=\"text-align: right;\">\n",
              "      <th>id</th>\n",
              "      <th>binancecoin</th>\n",
              "      <th>bitcoin</th>\n",
              "      <th>bitcoin-cash</th>\n",
              "      <th>cardano</th>\n",
              "      <th>ethereum</th>\n",
              "      <th>litecoin</th>\n",
              "      <th>monero</th>\n",
              "      <th>ripple</th>\n",
              "      <th>stellar</th>\n",
              "      <th>tether</th>\n",
              "    </tr>\n",
              "    <tr>\n",
              "      <th>Date</th>\n",
              "      <th></th>\n",
              "      <th></th>\n",
              "      <th></th>\n",
              "      <th></th>\n",
              "      <th></th>\n",
              "      <th></th>\n",
              "      <th></th>\n",
              "      <th></th>\n",
              "      <th></th>\n",
              "      <th></th>\n",
              "    </tr>\n",
              "  </thead>\n",
              "  <tbody>\n",
              "    <tr>\n",
              "      <th>2018-01-01</th>\n",
              "      <td>0.001782</td>\n",
              "      <td>0.481940</td>\n",
              "      <td>0.083546</td>\n",
              "      <td>0.039477</td>\n",
              "      <td>0.152989</td>\n",
              "      <td>0.025636</td>\n",
              "      <td>0.011319</td>\n",
              "      <td>0.182413</td>\n",
              "      <td>0.018085</td>\n",
              "      <td>0.002814</td>\n",
              "    </tr>\n",
              "    <tr>\n",
              "      <th>2018-01-02</th>\n",
              "      <td>0.001685</td>\n",
              "      <td>0.481173</td>\n",
              "      <td>0.083050</td>\n",
              "      <td>0.039182</td>\n",
              "      <td>0.158761</td>\n",
              "      <td>0.026058</td>\n",
              "      <td>0.010963</td>\n",
              "      <td>0.178027</td>\n",
              "      <td>0.018530</td>\n",
              "      <td>0.002571</td>\n",
              "    </tr>\n",
              "    <tr>\n",
              "      <th>2018-01-03</th>\n",
              "      <td>0.001671</td>\n",
              "      <td>0.446408</td>\n",
              "      <td>0.075853</td>\n",
              "      <td>0.047590</td>\n",
              "      <td>0.159062</td>\n",
              "      <td>0.023120</td>\n",
              "      <td>0.010499</td>\n",
              "      <td>0.206705</td>\n",
              "      <td>0.026720</td>\n",
              "      <td>0.002372</td>\n",
              "    </tr>\n",
              "    <tr>\n",
              "      <th>2018-01-04</th>\n",
              "      <td>0.001609</td>\n",
              "      <td>0.450307</td>\n",
              "      <td>0.069765</td>\n",
              "      <td>0.051353</td>\n",
              "      <td>0.159014</td>\n",
              "      <td>0.022458</td>\n",
              "      <td>0.010848</td>\n",
              "      <td>0.209500</td>\n",
              "      <td>0.022673</td>\n",
              "      <td>0.002473</td>\n",
              "    </tr>\n",
              "    <tr>\n",
              "      <th>2018-01-05</th>\n",
              "      <td>0.002610</td>\n",
              "      <td>0.492064</td>\n",
              "      <td>0.068917</td>\n",
              "      <td>0.044678</td>\n",
              "      <td>0.155512</td>\n",
              "      <td>0.022198</td>\n",
              "      <td>0.010018</td>\n",
              "      <td>0.181557</td>\n",
              "      <td>0.020100</td>\n",
              "      <td>0.002346</td>\n",
              "    </tr>\n",
              "    <tr>\n",
              "      <th>...</th>\n",
              "      <td>...</td>\n",
              "      <td>...</td>\n",
              "      <td>...</td>\n",
              "      <td>...</td>\n",
              "      <td>...</td>\n",
              "      <td>...</td>\n",
              "      <td>...</td>\n",
              "      <td>...</td>\n",
              "      <td>...</td>\n",
              "      <td>...</td>\n",
              "    </tr>\n",
              "    <tr>\n",
              "      <th>2021-04-26</th>\n",
              "      <td>0.054366</td>\n",
              "      <td>0.636584</td>\n",
              "      <td>0.009853</td>\n",
              "      <td>0.024161</td>\n",
              "      <td>0.185494</td>\n",
              "      <td>0.010395</td>\n",
              "      <td>0.004425</td>\n",
              "      <td>0.033107</td>\n",
              "      <td>0.006653</td>\n",
              "      <td>0.034962</td>\n",
              "    </tr>\n",
              "    <tr>\n",
              "      <th>2021-04-27</th>\n",
              "      <td>0.051749</td>\n",
              "      <td>0.635683</td>\n",
              "      <td>0.010014</td>\n",
              "      <td>0.024963</td>\n",
              "      <td>0.184573</td>\n",
              "      <td>0.010386</td>\n",
              "      <td>0.004533</td>\n",
              "      <td>0.039458</td>\n",
              "      <td>0.007014</td>\n",
              "      <td>0.031628</td>\n",
              "    </tr>\n",
              "    <tr>\n",
              "      <th>2021-04-28</th>\n",
              "      <td>0.053901</td>\n",
              "      <td>0.630056</td>\n",
              "      <td>0.010176</td>\n",
              "      <td>0.025658</td>\n",
              "      <td>0.187690</td>\n",
              "      <td>0.010603</td>\n",
              "      <td>0.004407</td>\n",
              "      <td>0.039536</td>\n",
              "      <td>0.007140</td>\n",
              "      <td>0.030833</td>\n",
              "    </tr>\n",
              "    <tr>\n",
              "      <th>2021-04-29</th>\n",
              "      <td>0.052835</td>\n",
              "      <td>0.625404</td>\n",
              "      <td>0.010363</td>\n",
              "      <td>0.026065</td>\n",
              "      <td>0.193737</td>\n",
              "      <td>0.010549</td>\n",
              "      <td>0.004585</td>\n",
              "      <td>0.038266</td>\n",
              "      <td>0.006976</td>\n",
              "      <td>0.031219</td>\n",
              "    </tr>\n",
              "    <tr>\n",
              "      <th>2021-04-30</th>\n",
              "      <td>0.056967</td>\n",
              "      <td>0.617188</td>\n",
              "      <td>0.010154</td>\n",
              "      <td>0.026003</td>\n",
              "      <td>0.196478</td>\n",
              "      <td>0.010517</td>\n",
              "      <td>0.004492</td>\n",
              "      <td>0.039624</td>\n",
              "      <td>0.006986</td>\n",
              "      <td>0.031591</td>\n",
              "    </tr>\n",
              "  </tbody>\n",
              "</table>\n",
              "<p>1234 rows × 10 columns</p>\n",
              "</div>"
            ],
            "text/plain": [
              "id          binancecoin   bitcoin  bitcoin-cash  ...    ripple   stellar    tether\n",
              "Date                                             ...                              \n",
              "2018-01-01     0.001782  0.481940      0.083546  ...  0.182413  0.018085  0.002814\n",
              "2018-01-02     0.001685  0.481173      0.083050  ...  0.178027  0.018530  0.002571\n",
              "2018-01-03     0.001671  0.446408      0.075853  ...  0.206705  0.026720  0.002372\n",
              "2018-01-04     0.001609  0.450307      0.069765  ...  0.209500  0.022673  0.002473\n",
              "2018-01-05     0.002610  0.492064      0.068917  ...  0.181557  0.020100  0.002346\n",
              "...                 ...       ...           ...  ...       ...       ...       ...\n",
              "2021-04-26     0.054366  0.636584      0.009853  ...  0.033107  0.006653  0.034962\n",
              "2021-04-27     0.051749  0.635683      0.010014  ...  0.039458  0.007014  0.031628\n",
              "2021-04-28     0.053901  0.630056      0.010176  ...  0.039536  0.007140  0.030833\n",
              "2021-04-29     0.052835  0.625404      0.010363  ...  0.038266  0.006976  0.031219\n",
              "2021-04-30     0.056967  0.617188      0.010154  ...  0.039624  0.006986  0.031591\n",
              "\n",
              "[1234 rows x 10 columns]"
            ]
          },
          "metadata": {
            "tags": []
          },
          "execution_count": 11
        }
      ]
    },
    {
      "cell_type": "code",
      "metadata": {
        "colab": {
          "base_uri": "https://localhost:8080/"
        },
        "id": "NzwfS6N8kNw1",
        "outputId": "919d0b2f-854b-4df1-9407-97288313e0c8"
      },
      "source": [
        "# lastly we take the mean of each coin's weights across the period\n",
        "# to create the weights array\n",
        "mc_w = np.array(mc_w.mean())\n",
        "\n",
        "mc_w"
      ],
      "execution_count": null,
      "outputs": [
        {
          "output_type": "execute_result",
          "data": {
            "text/plain": [
              "array([0.01418783, 0.6721772 , 0.03287117, 0.01572575, 0.14048139,\n",
              "       0.02088392, 0.00870568, 0.07155597, 0.01399325, 0.02424757])"
            ]
          },
          "metadata": {
            "tags": []
          },
          "execution_count": 12
        }
      ]
    },
    {
      "cell_type": "markdown",
      "metadata": {
        "id": "yg2bjW56lZxc"
      },
      "source": [
        "# Calculate returns\n",
        "\n",
        "The value of the portfolio after any given period is defined by the change in it's price value over that time period.\n",
        "\n",
        "Here we calculate the base returns that can be used in both of our portfolios later on."
      ]
    },
    {
      "cell_type": "code",
      "metadata": {
        "colab": {
          "base_uri": "https://localhost:8080/"
        },
        "id": "XRfvE5Ggkk5N",
        "outputId": "a2530938-82e0-4ddb-c3e2-1cb99fbf9c95"
      },
      "source": [
        "returns = prices_df.pct_change()\n",
        "\n",
        "# the average of the returns is\n",
        "mean_returns = returns.mean()\n",
        "\n",
        "mean_returns"
      ],
      "execution_count": null,
      "outputs": [
        {
          "output_type": "execute_result",
          "data": {
            "text/plain": [
              "id\n",
              "binancecoin     0.005756\n",
              "bitcoin         0.001833\n",
              "bitcoin-cash    0.001126\n",
              "cardano         0.002238\n",
              "ethereum        0.002309\n",
              "litecoin        0.001470\n",
              "monero          0.001464\n",
              "ripple          0.001491\n",
              "stellar         0.001866\n",
              "tether          0.000061\n",
              "dtype: float64"
            ]
          },
          "metadata": {
            "tags": []
          },
          "execution_count": 13
        }
      ]
    },
    {
      "cell_type": "markdown",
      "metadata": {
        "id": "-a5HB6zHl8sb"
      },
      "source": [
        "# Statistics for VaR\n",
        "\n",
        "To calculate the Value at Risk, we need to be able to construct a Probability Density for our portfolio returns.\n",
        "\n",
        "To do that we need the following statistics, relevant to the portfolio weightings:\n",
        "\n",
        "* Mean return\n",
        "* Standard deviation\n",
        "\n",
        "We will use the [formulas provided in this article](https://blog.quantinsti.com/calculating-covariance-matrix-portfolio-variance/) to help derive these statistics."
      ]
    },
    {
      "cell_type": "markdown",
      "metadata": {
        "id": "8OTtlYBAmhv2"
      },
      "source": [
        "## Mean (Expected Return)\n",
        "\n",
        "The mean return of any portfolio is given by the means of the underlying assets multiplied by the weights.\n",
        "\n",
        "$ E(pf) = M \\cdot W $\n",
        "\n",
        "This is where we need to start using our portfolio weights respectively."
      ]
    },
    {
      "cell_type": "code",
      "metadata": {
        "colab": {
          "base_uri": "https://localhost:8080/"
        },
        "id": "6FxUJ_-jmQaE",
        "outputId": "87cc2368-f42d-4dee-b3ce-29a5be3fe4b1"
      },
      "source": [
        "# for the equally weighted portfolio\n",
        "eq_mean = np.dot(mean_returns, eq_w)\n",
        "eq_mean"
      ],
      "execution_count": null,
      "outputs": [
        {
          "output_type": "execute_result",
          "data": {
            "text/plain": [
              "0.0019614954841163912"
            ]
          },
          "metadata": {
            "tags": []
          },
          "execution_count": 15
        }
      ]
    },
    {
      "cell_type": "code",
      "metadata": {
        "colab": {
          "base_uri": "https://localhost:8080/"
        },
        "id": "X8u9QLLEn9VD",
        "outputId": "811037be-d71b-4562-c13e-d4160db749de"
      },
      "source": [
        "# for the market cap weighted portfolio\n",
        "mc_mean = np.dot(mean_returns, mc_w)\n",
        "mc_mean"
      ],
      "execution_count": null,
      "outputs": [
        {
          "output_type": "execute_result",
          "data": {
            "text/plain": [
              "0.0018880283090693538"
            ]
          },
          "metadata": {
            "tags": []
          },
          "execution_count": 16
        }
      ]
    },
    {
      "cell_type": "markdown",
      "metadata": {
        "id": "VRhaQYqgoWW1"
      },
      "source": [
        "## Standard deviation (Volatility)\n",
        "\n",
        "The standard deviation is calculated by:\n",
        "\n",
        "$ S = \\sqrt{s^2} $\n",
        "\n",
        "Where $s^2$ is the variance given by:\n",
        "\n",
        "$ s^2 = W^T * (Covariance Matrix) * W$\n",
        "\n",
        "So, first we need to construct the Covariance matrix for our prices.\n",
        "\n",
        "Then we calculate the variance, and take the square root to find the standard deviation."
      ]
    },
    {
      "cell_type": "code",
      "metadata": {
        "colab": {
          "base_uri": "https://localhost:8080/",
          "height": 377
        },
        "id": "kXxVCVNWoDAq",
        "outputId": "fecec200-3e3c-49c0-8cd1-fcad2e67bebc"
      },
      "source": [
        "returns_cov = returns.cov()\n",
        "returns_cov"
      ],
      "execution_count": null,
      "outputs": [
        {
          "output_type": "execute_result",
          "data": {
            "text/html": [
              "<div>\n",
              "<style scoped>\n",
              "    .dataframe tbody tr th:only-of-type {\n",
              "        vertical-align: middle;\n",
              "    }\n",
              "\n",
              "    .dataframe tbody tr th {\n",
              "        vertical-align: top;\n",
              "    }\n",
              "\n",
              "    .dataframe thead th {\n",
              "        text-align: right;\n",
              "    }\n",
              "</style>\n",
              "<table border=\"1\" class=\"dataframe\">\n",
              "  <thead>\n",
              "    <tr style=\"text-align: right;\">\n",
              "      <th>id</th>\n",
              "      <th>binancecoin</th>\n",
              "      <th>bitcoin</th>\n",
              "      <th>bitcoin-cash</th>\n",
              "      <th>cardano</th>\n",
              "      <th>ethereum</th>\n",
              "      <th>litecoin</th>\n",
              "      <th>monero</th>\n",
              "      <th>ripple</th>\n",
              "      <th>stellar</th>\n",
              "      <th>tether</th>\n",
              "    </tr>\n",
              "    <tr>\n",
              "      <th>id</th>\n",
              "      <th></th>\n",
              "      <th></th>\n",
              "      <th></th>\n",
              "      <th></th>\n",
              "      <th></th>\n",
              "      <th></th>\n",
              "      <th></th>\n",
              "      <th></th>\n",
              "      <th></th>\n",
              "      <th></th>\n",
              "    </tr>\n",
              "  </thead>\n",
              "  <tbody>\n",
              "    <tr>\n",
              "      <th>binancecoin</th>\n",
              "      <td>0.005362</td>\n",
              "      <td>0.001515</td>\n",
              "      <td>0.001863</td>\n",
              "      <td>0.001993</td>\n",
              "      <td>0.001883</td>\n",
              "      <td>0.001998</td>\n",
              "      <td>0.001683</td>\n",
              "      <td>0.001832</td>\n",
              "      <td>0.001922</td>\n",
              "      <td>0.000001</td>\n",
              "    </tr>\n",
              "    <tr>\n",
              "      <th>bitcoin</th>\n",
              "      <td>0.001515</td>\n",
              "      <td>0.001525</td>\n",
              "      <td>0.001821</td>\n",
              "      <td>0.001594</td>\n",
              "      <td>0.001583</td>\n",
              "      <td>0.001641</td>\n",
              "      <td>0.001487</td>\n",
              "      <td>0.001347</td>\n",
              "      <td>0.001470</td>\n",
              "      <td>-0.000010</td>\n",
              "    </tr>\n",
              "    <tr>\n",
              "      <th>bitcoin-cash</th>\n",
              "      <td>0.001863</td>\n",
              "      <td>0.001821</td>\n",
              "      <td>0.003986</td>\n",
              "      <td>0.002482</td>\n",
              "      <td>0.002439</td>\n",
              "      <td>0.002616</td>\n",
              "      <td>0.002199</td>\n",
              "      <td>0.002246</td>\n",
              "      <td>0.002321</td>\n",
              "      <td>-0.000005</td>\n",
              "    </tr>\n",
              "    <tr>\n",
              "      <th>cardano</th>\n",
              "      <td>0.001993</td>\n",
              "      <td>0.001594</td>\n",
              "      <td>0.002482</td>\n",
              "      <td>0.003647</td>\n",
              "      <td>0.002294</td>\n",
              "      <td>0.002229</td>\n",
              "      <td>0.001999</td>\n",
              "      <td>0.002280</td>\n",
              "      <td>0.002858</td>\n",
              "      <td>-0.000002</td>\n",
              "    </tr>\n",
              "    <tr>\n",
              "      <th>ethereum</th>\n",
              "      <td>0.001883</td>\n",
              "      <td>0.001583</td>\n",
              "      <td>0.002439</td>\n",
              "      <td>0.002294</td>\n",
              "      <td>0.002557</td>\n",
              "      <td>0.002195</td>\n",
              "      <td>0.001919</td>\n",
              "      <td>0.001971</td>\n",
              "      <td>0.002093</td>\n",
              "      <td>0.000012</td>\n",
              "    </tr>\n",
              "    <tr>\n",
              "      <th>litecoin</th>\n",
              "      <td>0.001998</td>\n",
              "      <td>0.001641</td>\n",
              "      <td>0.002616</td>\n",
              "      <td>0.002229</td>\n",
              "      <td>0.002195</td>\n",
              "      <td>0.002828</td>\n",
              "      <td>0.001954</td>\n",
              "      <td>0.002032</td>\n",
              "      <td>0.002064</td>\n",
              "      <td>-0.000004</td>\n",
              "    </tr>\n",
              "    <tr>\n",
              "      <th>monero</th>\n",
              "      <td>0.001683</td>\n",
              "      <td>0.001487</td>\n",
              "      <td>0.002199</td>\n",
              "      <td>0.001999</td>\n",
              "      <td>0.001919</td>\n",
              "      <td>0.001954</td>\n",
              "      <td>0.002727</td>\n",
              "      <td>0.001733</td>\n",
              "      <td>0.001884</td>\n",
              "      <td>-0.000020</td>\n",
              "    </tr>\n",
              "    <tr>\n",
              "      <th>ripple</th>\n",
              "      <td>0.001832</td>\n",
              "      <td>0.001347</td>\n",
              "      <td>0.002246</td>\n",
              "      <td>0.002280</td>\n",
              "      <td>0.001971</td>\n",
              "      <td>0.002032</td>\n",
              "      <td>0.001733</td>\n",
              "      <td>0.003980</td>\n",
              "      <td>0.002746</td>\n",
              "      <td>-0.000001</td>\n",
              "    </tr>\n",
              "    <tr>\n",
              "      <th>stellar</th>\n",
              "      <td>0.001922</td>\n",
              "      <td>0.001470</td>\n",
              "      <td>0.002321</td>\n",
              "      <td>0.002858</td>\n",
              "      <td>0.002093</td>\n",
              "      <td>0.002064</td>\n",
              "      <td>0.001884</td>\n",
              "      <td>0.002746</td>\n",
              "      <td>0.004076</td>\n",
              "      <td>-0.000007</td>\n",
              "    </tr>\n",
              "    <tr>\n",
              "      <th>tether</th>\n",
              "      <td>0.000001</td>\n",
              "      <td>-0.000010</td>\n",
              "      <td>-0.000005</td>\n",
              "      <td>-0.000002</td>\n",
              "      <td>0.000012</td>\n",
              "      <td>-0.000004</td>\n",
              "      <td>-0.000020</td>\n",
              "      <td>-0.000001</td>\n",
              "      <td>-0.000007</td>\n",
              "      <td>0.000178</td>\n",
              "    </tr>\n",
              "  </tbody>\n",
              "</table>\n",
              "</div>"
            ],
            "text/plain": [
              "id            binancecoin   bitcoin  bitcoin-cash  ...    ripple   stellar    tether\n",
              "id                                                 ...                              \n",
              "binancecoin      0.005362  0.001515      0.001863  ...  0.001832  0.001922  0.000001\n",
              "bitcoin          0.001515  0.001525      0.001821  ...  0.001347  0.001470 -0.000010\n",
              "bitcoin-cash     0.001863  0.001821      0.003986  ...  0.002246  0.002321 -0.000005\n",
              "cardano          0.001993  0.001594      0.002482  ...  0.002280  0.002858 -0.000002\n",
              "ethereum         0.001883  0.001583      0.002439  ...  0.001971  0.002093  0.000012\n",
              "litecoin         0.001998  0.001641      0.002616  ...  0.002032  0.002064 -0.000004\n",
              "monero           0.001683  0.001487      0.002199  ...  0.001733  0.001884 -0.000020\n",
              "ripple           0.001832  0.001347      0.002246  ...  0.003980  0.002746 -0.000001\n",
              "stellar          0.001922  0.001470      0.002321  ...  0.002746  0.004076 -0.000007\n",
              "tether           0.000001 -0.000010     -0.000005  ... -0.000001 -0.000007  0.000178\n",
              "\n",
              "[10 rows x 10 columns]"
            ]
          },
          "metadata": {
            "tags": []
          },
          "execution_count": 17
        }
      ]
    },
    {
      "cell_type": "code",
      "metadata": {
        "colab": {
          "base_uri": "https://localhost:8080/"
        },
        "id": "pq1SUuPhpgkK",
        "outputId": "51b89b6a-8259-43f4-b7df-3d8034886cdd"
      },
      "source": [
        "# calculate the standard deviation of the equally weighted portfolio\n",
        "eq_S = np.sqrt(np.dot(eq_w.T, np.dot(returns_cov, eq_w)))\n",
        "eq_S"
      ],
      "execution_count": null,
      "outputs": [
        {
          "output_type": "execute_result",
          "data": {
            "text/plain": [
              "0.04185237834060038"
            ]
          },
          "metadata": {
            "tags": []
          },
          "execution_count": 18
        }
      ]
    },
    {
      "cell_type": "code",
      "metadata": {
        "colab": {
          "base_uri": "https://localhost:8080/"
        },
        "id": "mwzKbydpp2Np",
        "outputId": "d3a4e863-edae-4f74-ea4b-5d6689e016a3"
      },
      "source": [
        "# and the same for the Market Cap weighted portfolio\n",
        "mc_S = np.sqrt(np.dot(mc_w.T, np.dot(returns_cov, mc_w)))\n",
        "mc_S"
      ],
      "execution_count": null,
      "outputs": [
        {
          "output_type": "execute_result",
          "data": {
            "text/plain": [
              "0.03987545245761677"
            ]
          },
          "metadata": {
            "tags": []
          },
          "execution_count": 19
        }
      ]
    },
    {
      "cell_type": "markdown",
      "metadata": {
        "id": "l_anMbplqLJD"
      },
      "source": [
        "# Construct the Distribution Curve\n",
        "\n",
        "To calculate, and also visualise, the VaR we need to construct a distribution curve for each of the portfolios."
      ]
    },
    {
      "cell_type": "code",
      "metadata": {
        "id": "9GL2YuScqv3R"
      },
      "source": [
        "# we start by defining the X axes for both PDFs\n",
        "x = np.arange(-0.15, 0.15, 0.001) # arbitrary dimensions to fit the distribution\n",
        "\n",
        "# then we construct the normal distributions for each portfolio\n",
        "eq_dist = norm.pdf(x, eq_mean, eq_S)\n",
        "mc_dist = norm.pdf(x, mc_mean, mc_S)"
      ],
      "execution_count": null,
      "outputs": []
    },
    {
      "cell_type": "code",
      "metadata": {
        "colab": {
          "base_uri": "https://localhost:8080/",
          "height": 403
        },
        "id": "k38tATGlqa_6",
        "outputId": "e0996888-ba36-481a-d0dd-03b117f63997"
      },
      "source": [
        "# now we define our visualisation axes\n",
        "# so that we can compare the portfolios side by side\n",
        "fig, (ax1, ax2) = plt.subplots(1, 2)\n",
        "fig.suptitle('Equal v.s. Market Cap weighted portfolio PDF') # label the figure\n",
        "\n",
        "# and plot the distributions\n",
        "ax1.plot(x, eq_dist)\n",
        "ax1.set_title('Equally weighted')\n",
        "ax2.plot(x, mc_dist)\n",
        "ax2.set_title('Market Cap weighted')"
      ],
      "execution_count": null,
      "outputs": [
        {
          "output_type": "execute_result",
          "data": {
            "text/plain": [
              "Text(0.5, 1.0, 'Market Cap weighted')"
            ]
          },
          "metadata": {
            "tags": []
          },
          "execution_count": 21
        },
        {
          "output_type": "display_data",
          "data": {
            "image/png": "[encoded data removed]",
            "text/plain": [
              "<Figure size 576x396 with 2 Axes>"
            ]
          },
          "metadata": {
            "tags": []
          }
        }
      ]
    },
    {
      "cell_type": "markdown",
      "metadata": {
        "id": "5yXD3IKG2fL3"
      },
      "source": [
        "It seems that both portfolio's returns are very similar in distribution.\n",
        "\n",
        "The skinny distribution here suggests that returns are quite stable across this historic price data."
      ]
    },
    {
      "cell_type": "markdown",
      "metadata": {
        "id": "xpiOpBo1sU6k"
      },
      "source": [
        "# Calculating the Value at Risk\n",
        "\n",
        "Value at Risk is understood at specific confidence levels.\n",
        "\n",
        "For example, one might say:\n",
        "\n",
        "*We are 95% confident that the portfolio will not lose more than x% in one day.*\n",
        "\n",
        "So, lets start by calculating the VaR at the 95% confidence level, after that we can experiment with a few confidence levels and time ranges to see how that VaR changes."
      ]
    },
    {
      "cell_type": "code",
      "metadata": {
        "colab": {
          "base_uri": "https://localhost:8080/"
        },
        "id": "7T6YWGNHr54f",
        "outputId": "fea98069-6271-41ea-ced4-fcd69538915c"
      },
      "source": [
        "# set our confidence level as (1 - desired confidence)\n",
        "conf_level = 0.05\n",
        "\n",
        "# we use the Scipy Norm PPF (percent point function) to calculate\n",
        "# the daily Value at Risk\n",
        "# for each of the return distributions\n",
        "eq_var = norm.ppf(conf_level, eq_mean, eq_S)\n",
        "mc_var = norm.ppf(conf_level, mc_mean, mc_S)\n",
        "\n",
        "# print the results\n",
        "print(\"\"\"\n",
        "We are {conf}% confident that the...\n",
        "----------\n",
        "Equally weighted portfolio will not lose more than\n",
        "{eq_var}% in a day.\n",
        "----------\n",
        "Market Cap weighted portfolio will not lose more than\n",
        "{mc_var}% in a day.\n",
        "\"\"\".format(conf=((1-conf_level)*100),\n",
        "           eq_var=round(eq_var*100,2),\n",
        "           mc_var=round(mc_var*100,2)\n",
        "           )\n",
        ")\n"
      ],
      "execution_count": null,
      "outputs": [
        {
          "output_type": "stream",
          "text": [
            "\n",
            "We are 95.0% confident that the...\n",
            "----------\n",
            "Equally weighted portfolio will not lose more than\n",
            "-6.69% in a day.\n",
            "----------\n",
            "Market Cap weighted portfolio will not lose more than\n",
            "-6.37% in a day.\n",
            "\n"
          ],
          "name": "stdout"
        }
      ]
    },
    {
      "cell_type": "markdown",
      "metadata": {
        "id": "U4rBAiHOsU6m"
      },
      "source": [
        "### Value at Risk for more than 1 day\n",
        "\n",
        "To calculate the VaR for a time range greater than one day, all you have to do is multiply the VaR at 1 day by the square root of the number of days in the range you are interested in.\n",
        "\n",
        "For example:"
      ]
    },
    {
      "cell_type": "code",
      "metadata": {
        "colab": {
          "base_uri": "https://localhost:8080/"
        },
        "id": "6fGoVESjtO8H",
        "outputId": "a5afec37-c138-416d-b876-8563e6df5870"
      },
      "source": [
        "# VaR at 10 days\n",
        "days = 10\n",
        "eq_var10D = eq_var * np.sqrt(days)\n",
        "\n",
        "print(\"\"\"\n",
        "We are {conf}% confident that the...\n",
        "----------\n",
        "Equally weighted portfolio will not lose more than\n",
        "{eq_var}% in {days} day(s).\n",
        "\"\"\".format(conf=((1-conf_level)*100),\n",
        "           eq_var=round(eq_var10D*100,2),\n",
        "           days=days\n",
        "           )\n",
        ")"
      ],
      "execution_count": null,
      "outputs": [
        {
          "output_type": "stream",
          "text": [
            "\n",
            "We are 95.0% confident that the...\n",
            "----------\n",
            "Equally weighted portfolio will not lose more than\n",
            "-21.15% in 10 day(s).\n",
            "\n"
          ],
          "name": "stdout"
        }
      ]
    },
    {
      "cell_type": "markdown",
      "metadata": {
        "id": "6Fcz2aTuuRqT"
      },
      "source": [
        "## Let's generalise\n",
        "\n",
        "Now that we have calculated the VaR specifically, let's create some functions to do that for us, and experiment with different parameters to give us a better view."
      ]
    },
    {
      "cell_type": "code",
      "metadata": {
        "id": "vWk6vme6tdWd"
      },
      "source": [
        "def valueAtRisk(prices, weights, conf_level, days=1):\n",
        "  \"\"\"\n",
        "  Calculates the Value at Risk for a given dataset of prices.\n",
        "\n",
        "  :params:\n",
        "  prices     | Pandas DataFrame | DataFrame of asset prices across a histroic period.\n",
        "                                  Form should be of: Index = Dates, Columns = assets, Values = closing price\n",
        "  weights    | numpy Array | Portfolio allocation percentages for each of the assets in 'prices'\n",
        "                             Should be the same length as the columns in 'prices'\n",
        "  conf_level | float | Confidence level required for the Value at Risk.\n",
        "                      Should be the form of (1 - confidence level) if you are describing the upper bound.\n",
        "  days       | int | Number of days to calculate the risk exposure for.\n",
        "\n",
        "  :returns:\n",
        "  var | float | Value of the Portfolio that is at risk for the given number of days.\n",
        "   \n",
        "  \"\"\"\n",
        "  # calculate the daily return of each asset in the portfolio\n",
        "  returns = prices.pct_change()\n",
        "  # the average return for each asset\n",
        "  mean_returns = returns.mean()\n",
        "  # the average return of the whole portfolio, weight allocated\n",
        "  mean = np.dot(mean_returns, eq_w)\n",
        "\n",
        "  # the covariance matrix of the returns\n",
        "  returns_cov = returns.cov()\n",
        "\n",
        "  # the standard deviation (volatility) of the portfolio\n",
        "  stdev = np.sqrt(np.dot(weights.T, np.dot(returns_cov, weights)))\n",
        "\n",
        "  # the value at risk for the number of days\n",
        "  var = norm.ppf(conf_level, mean, stdev) * np.sqrt(days)\n",
        "\n",
        "  return var\n"
      ],
      "execution_count": null,
      "outputs": []
    },
    {
      "cell_type": "markdown",
      "metadata": {
        "id": "YziOvsNowspQ"
      },
      "source": [
        "## VaR across a month\n",
        "\n",
        "How does our VaR behave across a long date range?\n",
        "\n",
        "We will use our above function ``valueAtRisk`` on both the portfolios, and see how the VaR changes across 30 days."
      ]
    },
    {
      "cell_type": "code",
      "metadata": {
        "colab": {
          "base_uri": "https://localhost:8080/",
          "height": 380
        },
        "id": "vHlTDJAuwF4-",
        "outputId": "b221a825-34f2-4744-d89c-57ea3f86be1b"
      },
      "source": [
        "# define a list of days we want to test the VaR on\n",
        "days = range(1,31)\n",
        "\n",
        "# initiate empty lists to fill with VaR values\n",
        "eq_var = []\n",
        "mc_var = []\n",
        "\n",
        "# calculate the VaR for each day in the range\n",
        "for day in days:\n",
        "  # equally weighted pf\n",
        "  eq_var.append(valueAtRisk(prices_df, eq_w, 0.05, days = day))\n",
        "  # Market Cap weighted pf\n",
        "  mc_var.append(valueAtRisk(prices_df, mc_w, 0.05, days = day))\n",
        "\n",
        "# visualise the results\n",
        "fig2, (ax1, ax2) = plt.subplots(1, 2)\n",
        "fig.suptitle('Equal v.s. Market Cap weighted portfolio VaR over 30 days') # label the figure\n",
        "\n",
        "# and plot the distributions\n",
        "ax1.plot(days, eq_var)\n",
        "ax1.set_title('Equally weighted')\n",
        "ax2.plot(days, mc_var)\n",
        "ax2.set_title('Market Cap weighted')"
      ],
      "execution_count": null,
      "outputs": [
        {
          "output_type": "execute_result",
          "data": {
            "text/plain": [
              "Text(0.5, 1.0, 'Market Cap weighted')"
            ]
          },
          "metadata": {
            "tags": []
          },
          "execution_count": 41
        },
        {
          "output_type": "display_data",
          "data": {
            "image/png": "[encoded data removed]",
            "text/plain": [
              "<Figure size 576x396 with 2 Axes>"
            ]
          },
          "metadata": {
            "tags": []
          }
        }
      ]
    },
    {
      "cell_type": "markdown",
      "metadata": {
        "id": "plKB7G6fymrR"
      },
      "source": [
        "## What does this mean?\n",
        "\n",
        "As seen above, the value at risk within both portfolios gets worse over time.\n",
        "\n",
        "Specifically, the equally weighted portfolio performs worse than the portfolio that is weighted by Market Cap, but not by a significant amount.\n",
        "\n",
        "### Optimization\n",
        "\n",
        "Further work could be done to reduce the risk of these portfolios by optimising the weights given to each asset ina  way which minimises the VaR.\n",
        "\n",
        "Some methods of approaching this could be to use Gradient Descent to minimise the VaR with respect to the weights, or a more simple Monte Carlo analysis to produce thousands of outcomes, and select the weights that produce the best VaR on the efficient frontier (a story for next time.\n",
        "\n",
        "### Limitations\n",
        "\n",
        "Standard covariance-variance VaR calculations such as the one used in this notebook rely on the assumption that returns are normally distributed with a mean of 0 and a given standard variation.\n",
        "\n",
        "This means that we are assuming that our portfolio's returns have steadily stayed the same (and will continue to int he future) across the historic date range used when calculating the returns.\n",
        "\n",
        "Statisticians often allow this assumption due to the law of averages suggesting that, given a wide enough time horizon and enough data, the distribution of the returns will indeed converge to a normal distribution.\n",
        "\n",
        "However, within such a novel and volatile market as crypto currencies, it becomes difficult to make this assumption.\n",
        "\n",
        "To overcome this in a future analysis we may conside using time-dependent estimations of the returns distribution using algorithms such as the GARCH models, or even delving into some Neural Networks using a Density Neural Netowkr architechture to capture temporal patterns in the data."
      ]
    }
  ]
}